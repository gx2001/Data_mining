{
 "cells": [
  {
   "cell_type": "markdown",
   "metadata": {},
   "source": [
    "Γιωργος Χατζηλιγος ΑΜ 4835\n",
    "Ερωτηση 2:"
   ]
  },
  {
   "cell_type": "markdown",
   "metadata": {},
   "source": [
    "Βημα 1 : User Average (UA) και Item Average (IA)"
   ]
  },
  {
   "cell_type": "code",
   "execution_count": 1,
   "metadata": {},
   "outputs": [],
   "source": [
    "#Libraries\n",
    "\n",
    "import pandas as pd\n",
    "import numpy as np\n",
    "from sklearn.metrics import mean_squared_error"
   ]
  },
  {
   "cell_type": "code",
   "execution_count": 16,
   "metadata": {},
   "outputs": [
    {
     "name": "stdout",
     "output_type": "stream",
     "text": [
      "       user_id  movie_id  rating\n",
      "0            0         0       5\n",
      "1            0         1       3\n",
      "2            0         2       4\n",
      "3            0         3       3\n",
      "4            0         4       3\n",
      "...        ...       ...     ...\n",
      "90565      942      1046       2\n",
      "90566      942      1073       4\n",
      "90567      942      1187       3\n",
      "90568      942      1227       3\n",
      "90569      942      1329       3\n",
      "\n",
      "[90570 rows x 3 columns]\n",
      "User Average RMSE: 1.0431\n"
     ]
    }
   ],
   "source": [
    "#Step 0 : Load data from the csv to framework\n",
    "\n",
    "train_model = pd.read_csv('data-train.csv' , names = [\"user_id\" , \"movie_id\" ,\"rating\"])\n",
    "print(train_model)\n",
    "test_model =pd.read_csv('data-test.csv' , names = [\"user_id\" , \"movie_id\" ,\"rating\"])\n",
    "user_means_train = train_model.groupby(\"user_id\")[\"rating\"].mean()\n",
    "\n",
    "test_model[\"prediction\"] = test_model[\"user_id\"].map(user_means_train)\n",
    "\n",
    "global_mean = train_model[\"rating\"].mean()\n",
    "test_model[\"prediction\"].fillna(global_mean , inplace = True)\n",
    "\n",
    "rmse = np.sqrt(mean_squared_error(test_model[\"rating\"] , test_model[\"prediction\"]))\n",
    "\n",
    "print(f\"User Average RMSE: {rmse:.4f}\")"
   ]
  },
  {
   "cell_type": "code",
   "execution_count": 35,
   "metadata": {},
   "outputs": [
    {
     "name": "stdout",
     "output_type": "stream",
     "text": [
      "User Average RMSE: 1.0431\n",
      "Item Average RMSE: 1.0418\n"
     ]
    }
   ],
   "source": [
    "#Step 1 : # \n",
    "# ---- UA(user average) ---- #\n",
    "def UA(train_model,test_model):\n",
    "    user_means_train = train_model.groupby(\"user_id\")[\"rating\"].mean()\n",
    "\n",
    "    test_model[\"prediction\"] = test_model[\"user_id\"].map(user_means_train)\n",
    "\n",
    "    global_mean = train_model[\"rating\"].mean()\n",
    "    test_model[\"prediction\"].fillna(global_mean , inplace = True)\n",
    "\n",
    "    rmse = np.sqrt(mean_squared_error(test_model[\"rating\"] , test_model[\"prediction\"]))\n",
    "\n",
    "    print(f\"User Average RMSE: {rmse:.4f}\")\n",
    "\n",
    "UA(train_model,test_model)\n",
    "\n",
    "\n",
    "# ----- IA (Item Average) ----- #\n",
    "def IA(train_model, test_model):\n",
    "    item_means_train = train_model.groupby(\"movie_id\")[\"rating\"].mean()\n",
    "\n",
    "    test_model[\"prediction\"] = test_model[\"movie_id\"].map(item_means_train)\n",
    "\n",
    "    global_mean = train_model[\"rating\"].mean()\n",
    "    test_model[\"prediction\"].fillna(global_mean, inplace=True)\n",
    "\n",
    "    rmse = np.sqrt(mean_squared_error(test_model[\"rating\"], test_model[\"prediction\"]))\n",
    "\n",
    "    print(f\"Item Average RMSE: {rmse:.4f}\")\n",
    "\n",
    "IA(train_model, test_model)"
   ]
  },
  {
   "cell_type": "markdown",
   "metadata": {},
   "source": [
    "Βημα 2ο:\n"
   ]
  },
  {
   "cell_type": "code",
   "execution_count": 35,
   "metadata": {},
   "outputs": [
    {
     "name": "stdout",
     "output_type": "stream",
     "text": [
      "943\n"
     ]
    },
    {
     "data": {
      "image/png": "[encoded data removed]",
      "text/plain": [
       "<Figure size 720x432 with 1 Axes>"
      ]
     },
     "metadata": {
      "needs_background": "light"
     },
     "output_type": "display_data"
    },
    {
     "name": "stdout",
     "output_type": "stream",
     "text": [
      "Η βέλτιστη τιμή του k είναι 18 με RMSE 2.8193\n"
     ]
    }
   ],
   "source": [
    "import pandas as pd\n",
    "import numpy as np\n",
    "from scipy.sparse import csr_matrix\n",
    "from scipy.sparse.linalg import svds\n",
    "from sklearn.metrics import mean_squared_error\n",
    "import matplotlib.pyplot as plt\n",
    "\n",
    "\n",
    "train_model = pd.read_csv('data-train.csv' , names = [\"user_id\" , \"movie_id\" ,\"rating\"])\n",
    "\n",
    "test_model =pd.read_csv('data-test.csv' , names = [\"user_id\" , \"movie_id\" ,\"rating\"])\n",
    "\n",
    "train_model['rating'] = train_model['rating'].astype(float)\n",
    "\n",
    "num_users = train_model['user_id'].max()+1 # Take the num of users (how many rows)# \n",
    "\n",
    "num_movies= train_model['movie_id'].max()+1 # Take the num of users (how many rows)#\n",
    "\n",
    "# Create the sparse matrix R #\n",
    "R = csr_matrix((train_model['rating'], (train_model['user_id'], train_model['movie_id'])), \n",
    "               shape=(num_users, num_movies))\n",
    "\n",
    "K = range(1,21) \n",
    "rmse_values = [] #an empty array just to put the results of the procedure#\n",
    "\n",
    "U,s,Vt = svds(R , k=20)\n",
    "\n",
    "s = np.diag(s)\n",
    "\n",
    "for k in K :\n",
    "    U_k = U[:,-k:] #k rows#\n",
    "    s_k = s[-k : , -k:] #k bigger singular values #\n",
    "    Vt_k = Vt[-k:,:]#k columns#\n",
    "\n",
    "\n",
    "    #Compute R_k as says in the Excercise#\n",
    "    R_k = np.dot(np.dot(U_k, s_k), Vt_k) # RK = Uk*Sk*Vtk\n",
    "    R_k = np.clip(R_k,0,5)\n",
    "    #Compute RMSE#\n",
    "    test_predictions = [R_k[u, m] for u, m in zip(test_model['user_id'], test_model['movie_id'])]\n",
    "    rmse = np.sqrt(mean_squared_error(test_model['rating'], test_predictions))\n",
    "    rmse_values.append(rmse)\n",
    "\n",
    "\n",
    "#Plot the in x_axis = k and y_axis = RMSE  #\n",
    "plt.figure(figsize=(10, 6))\n",
    "plt.plot(K, rmse_values, marker='o', linestyle='--')\n",
    "plt.title('RMSE για διάφορες τιμές του k στο SVD')\n",
    "plt.xlabel('k')\n",
    "plt.ylabel('RMSE')\n",
    "plt.grid()\n",
    "plt.show()\n",
    "\n",
    "#Min of the RMSE and the Kth-value#\n",
    "min_rmse = min(rmse_values)\n",
    "optimal_k = K[rmse_values.index(min_rmse)]\n",
    "print(f'Η βέλτιστη τιμή του k είναι {optimal_k} με RMSE {min_rmse:.4f}')\n",
    "\n"
   ]
  },
  {
   "cell_type": "code",
   "execution_count": 38,
   "metadata": {},
   "outputs": [
    {
     "name": "stdout",
     "output_type": "stream",
     "text": [
      "k=1, RMSE=3.2474\n",
      "k=2, RMSE=3.1434\n",
      "k=3, RMSE=3.0338\n",
      "k=4, RMSE=3.0023\n",
      "k=5, RMSE=2.9484\n",
      "k=6, RMSE=2.9036\n",
      "k=7, RMSE=2.8853\n",
      "k=8, RMSE=2.8689\n",
      "k=9, RMSE=2.8563\n",
      "k=10, RMSE=2.8480\n",
      "k=11, RMSE=2.8414\n",
      "k=12, RMSE=2.8346\n",
      "k=13, RMSE=2.8284\n",
      "k=14, RMSE=2.8275\n",
      "k=15, RMSE=2.8264\n",
      "k=16, RMSE=2.8238\n",
      "k=17, RMSE=2.8255\n",
      "k=18, RMSE=2.8235\n",
      "k=19, RMSE=2.8248\n",
      "k=20, RMSE=2.8258\n"
     ]
    },
    {
     "data": {
      "image/png": "[encoded data removed]",
      "text/plain": [
       "<Figure size 432x288 with 1 Axes>"
      ]
     },
     "metadata": {
      "needs_background": "light"
     },
     "output_type": "display_data"
    },
    {
     "name": "stdout",
     "output_type": "stream",
     "text": [
      "Best k: 18, Best RMSE: 2.8235\n"
     ]
    }
   ],
   "source": [
    "import pandas as pd\n",
    "import numpy as np\n",
    "from sklearn.metrics import mean_squared_error\n",
    "from scipy.sparse import csr_matrix\n",
    "from scipy.sparse.linalg import svds\n",
    "import matplotlib.pyplot as plt\n",
    "\n",
    "def load_data(train_file, test_file):\n",
    "    train = pd.read_csv(train_file, names=[\"user_id\", \"movie_id\", \"rating\"])\n",
    "    test = pd.read_csv(test_file, names=[\"user_id\", \"movie_id\", \"rating\"])\n",
    "    return train, test\n",
    "\n",
    "train, test = load_data('data-train.csv', 'data-test.csv')\n",
    "\n",
    "train[\"rating\"] = train[\"rating\"].astype(float)\n",
    "test[\"rating\"] = test[\"rating\"].astype(float)\n",
    "\n",
    "\n",
    "\n",
    "def svd(train, test, max_k=20):\n",
    "    n_users = train[\"user_id\"].max() + 1\n",
    "    n_movies = train[\"movie_id\"].max() + 1\n",
    "    \n",
    "    R = csr_matrix((train[\"rating\"], (train[\"user_id\"], train[\"movie_id\"])), shape=(n_users, n_movies))\n",
    "    \n",
    "    rmse_values = []\n",
    "    \n",
    "    for k in range(1, max_k + 1):\n",
    "        U, Sigma, Vt = svds(R, k=k)\n",
    "        Sigma = np.diag(Sigma)\n",
    "        \n",
    "        Rk = np.dot(np.dot(U, Sigma), Vt)\n",
    "        \n",
    "        predictions = []\n",
    "        for _, row in test.iterrows():\n",
    "            u, i = int(row[\"user_id\"]), int(row[\"movie_id\"])\n",
    "            pred = Rk[u, i] if u < Rk.shape[0] and i < Rk.shape[1] else np.mean(train[\"rating\"])\n",
    "            predictions.append(pred)\n",
    "        \n",
    "        test[\"prediction\"] = predictions\n",
    "        \n",
    "        rmse = np.sqrt(mean_squared_error(test[\"rating\"], test[\"prediction\"]))\n",
    "        rmse_values.append(rmse)\n",
    "        print(f\"k={k}, RMSE={rmse:.4f}\")\n",
    "    \n",
    "    plt.plot(range(1, max_k + 1), rmse_values, marker='o')\n",
    "    plt.xlabel('Number of Singular Values (k)')\n",
    "    plt.ylabel('RMSE')\n",
    "    plt.title('SVD: RMSE vs Number of Singular Values')\n",
    "    plt.grid()\n",
    "    plt.show()\n",
    "\n",
    "    best_k_svd = np.argmin(rmse_values) + 1\n",
    "    best_rmse_svd = min(rmse_values)\n",
    "    print(f\"Best k: {best_k_svd}, Best RMSE: {best_rmse_svd:.4f}\")\n",
    "    return best_k_svd, best_rmse_svd\n",
    "\n",
    "best_k_svd, best_rmse = svd(train, test)\n"
   ]
  },
  {
   "cell_type": "markdown",
   "metadata": {},
   "source": [
    "Βημα 3: "
   ]
  },
  {
   "cell_type": "markdown",
   "metadata": {},
   "source": [
    "Βημα 3.1 : \n",
    "user_mean(R,u) -> R = sparse matrix and u = user \n",
    "\n",
    "item_mean(R,u) -> R = sparse matrix and m = movie \n",
    "\n",
    "similar_users(R,u,m_users,k) ->  R = sparse matrix  , u = user , m_users με id_users , \n",
    "returns k most similar users with the user u\n",
    "\n",
    "compute_score(k_ratings,k_similiraties) -> k_ratings = vector of k ratirngs for m movies, k_similiraties= similiraty with one user u "
   ]
  },
  {
   "cell_type": "markdown",
   "metadata": {},
   "source": [
    "Χρησιμοποιησα την random για τις τιμες u(user) και m(movie) ωστε να διαλεγει καθε φορα τυχαια μια ταινια και ενα χρηστη"
   ]
  },
  {
   "cell_type": "code",
   "execution_count": null,
   "metadata": {},
   "outputs": [],
   "source": [
    "import pandas as pd\n",
    "import numpy as np\n",
    "from scipy.sparse import csr_matrix\n",
    "from scipy.sparse.linalg import svds\n",
    "from sklearn.metrics import mean_squared_error\n",
    "import matplotlib.pyplot as plt\n",
    "import random \n",
    "from numpy.linalg import norm\n",
    "from scipy.sparse.linalg import norm as sparse_norm\n",
    "\n",
    "\n",
    "train_model = pd.read_csv('data-train.csv' , names = [\"user_id\" , \"movie_id\" ,\"rating\"])\n",
    "\n",
    "test_model =pd.read_csv('data-test.csv' , names = [\"user_id\" , \"movie_id\" ,\"rating\"])\n",
    "\n",
    "train_model['rating'] = train_model['rating'].astype(float)\n",
    "\n",
    "num_users = train_model['user_id'].max()+1 # Take the num of users (how many rows)# \n",
    "#print(num_users)\n",
    "num_movies= train_model['movie_id'].max()+1 # Take the num of users (how many rows)#\n",
    "\n",
    "# Create the sparse matrix R #\n",
    "R = csr_matrix((train_model['rating'], (train_model['user_id'], train_model['movie_id'])), \n",
    "               shape=(num_users, num_movies))\n",
    "\n",
    "\n",
    "K = range(1,21) \n",
    "\n",
    "### ----- Function : user_mean(R,u) ------ ###\n",
    "\n",
    "#I will choose a random user from R matrix and do the mean of ratings#\n",
    "def user_mean(R,u):\n",
    "    print(\"User : \" , +u)\n",
    "    user_ratings= R[u , :]\n",
    "    print(user_ratings)\n",
    "    return user_ratings.mean()\n",
    "\n",
    "### ----- Function : item_user(R,m) ------ ###\n",
    "def item_users(R,m):\n",
    "    print(\"Movie : \", +m)\n",
    "    users_rate_movie = R[:, m].nonzero()[0]\n",
    "    print(users_rate_movie)\n",
    "    return users_rate_movie\n",
    "\n",
    "\n",
    "### ----- Function : similar_users_sparse(R, u, m_users, k) ------ ###\n",
    "def similar_users_sparse(R, u, m_users, k):\n",
    "    user_one_ratings = R.getrow(u)  \n",
    "    similarities = []\n",
    "\n",
    "    for user in m_users:\n",
    "        user_many_ratings = R.getrow(user) \n",
    "       \n",
    "        dot_product = user_one_ratings.dot(user_many_ratings.T).data\n",
    "        norm_one_user = np.sqrt(user_one_ratings.multiply(user_one_ratings).sum())\n",
    "        norm_many_user = np.sqrt(user_many_ratings.multiply(user_many_ratings).sum())\n",
    "        \n",
    "        if dot_product.size > 0 and norm_one_user > 0 and norm_many_user > 0:\n",
    "            similarity = dot_product[0] / (norm_one_user * norm_many_user)\n",
    "        else:\n",
    "            similarity = 0\n",
    "\n",
    "        similarities.append(similarity)\n",
    "\n",
    "    similarities = np.array(similarities)\n",
    "    top_k_indices = np.argsort(similarities)[::-1][:k]  \n",
    "\n",
    "    top_k_users = np.array(m_users)[top_k_indices]  \n",
    "    top_k_similarities = similarities[top_k_indices] \n",
    "\n",
    "    return top_k_users, top_k_similarities\n",
    "### ----- Function : compute_scope(k_ratings, k_similiraties) ------ ###\n",
    "\n",
    "\n",
    "def compute_scope(k_ratings, k_similiraties):\n",
    "\n",
    "    x1 = np.sum(k_ratings * k_similiraties)\n",
    "    x2 = np.sum(k_similiraties)\n",
    "    res = x1/x2 \n",
    "    return res \n",
    "\n",
    "num_users = R.shape[0]\n",
    "u = np.random.randint(0,num_users) #Random index between users #\n",
    "\n",
    "num_of_movies = R.shape[1]\n",
    "m= np.random.randint(0,num_of_movies) #Random index between users #\n",
    "\n",
    "k = 5\n",
    "m_users = item_users(R,m)\n",
    "\n",
    "top_k_users, top_k_similarities = similar_users_sparse(R, u, m_users, k)\n",
    "\n",
    "print(\"Χρήστης u:\", u)\n",
    "print(\"Ταινία m:\", m)\n",
    "print(\"Χρήστες που βαθμολόγησαν την ταινία m:\", m_users)\n",
    "print(\"Top-k χρήστες:\", top_k_users)\n",
    "print(\"Ομοιότητες:\", top_k_similarities)\n",
    "\n",
    "top_k_ratings = R[top_k_users, m].toarray().flatten()\n",
    "score = compute_scope(top_k_ratings , top_k_similarities)\n",
    "\n",
    "print(\"Score : \" , score)\n"
   ]
  },
  {
   "cell_type": "markdown",
   "metadata": {},
   "source": [
    "Βημα 4.2:"
   ]
  },
  {
   "cell_type": "code",
   "execution_count": 45,
   "metadata": {},
   "outputs": [
    {
     "name": "stdout",
     "output_type": "stream",
     "text": [
      "Τυχαία επιλογή: User ID = 1, Movie ID = 12, Actual Rating = 4\n",
      "Βέλτιστη τιμή του k: 100 με RMSE: 0.7767363848002441\n",
      "k=1: Predicted Rating=3.00\n",
      "k=2: Predicted Rating=3.00\n",
      "k=3: Predicted Rating=3.32\n",
      "k=5: Predicted Rating=3.39\n",
      "k=10: Predicted Rating=3.10\n",
      "k=20: Predicted Rating=3.19\n",
      "k=30: Predicted Rating=3.13\n",
      "k=40: Predicted Rating=3.31\n",
      "k=50: Predicted Rating=3.23\n",
      "k=60: Predicted Rating=3.26\n",
      "k=70: Predicted Rating=3.31\n",
      "k=80: Predicted Rating=3.32\n",
      "k=90: Predicted Rating=3.35\n",
      "k=100: Predicted Rating=3.35\n"
     ]
    },
    {
     "data": {
      "image/png": "[encoded data removed]",
      "text/plain": [
       "<Figure size 720x432 with 1 Axes>"
      ]
     },
     "metadata": {
      "needs_background": "light"
     },
     "output_type": "display_data"
    }
   ],
   "source": [
    "import numpy as np\n",
    "import matplotlib.pyplot as plt\n",
    "from sklearn.metrics import mean_squared_error\n",
    "import random\n",
    "\n",
    "def ucf_algorithm(R, u, m, k):\n",
    "    # 1. Βρίσκουμε τους χρήστες που έχουν βαθμολογήσει την ταινία 𝑚\n",
    "    m_users = item_users(R, m)\n",
    "    if len(m_users) == 0:\n",
    "        return user_mean(R, u)\n",
    "\n",
    "    top_k_users, top_k_similarities = similar_users_sparse(R, u, m_users, k)\n",
    "\n",
    "    if np.sum(top_k_similarities) == 0:\n",
    "        return 0\n",
    "\n",
    "    top_k_ratings = R[top_k_users, m].toarray().flatten()\n",
    "    score = compute_scope(top_k_ratings, top_k_similarities)\n",
    "\n",
    "    return score\n",
    "\n",
    "def compute_rmse(predictions, actuals):\n",
    "    return np.sqrt(mean_squared_error(actuals, predictions))\n",
    "\n",
    "def run_ucf_for_k_values(R, test_data, k_values):\n",
    "    rmse_values = []\n",
    "    predictions = []\n",
    "    actual_ratings = []\n",
    "\n",
    "    u = random.choice(test_data['user_id'].unique())\n",
    "\n",
    "    user_movies = test_data[test_data['user_id'] == u]\n",
    "\n",
    "    random_movie = user_movies.sample(n=1)\n",
    "    m = int(random_movie['movie_id'].iloc[0])  # Movie ID\n",
    "    actual_rating = random_movie['rating'].iloc[0]  # Actual rating\n",
    "\n",
    "    print(f\"Τυχαία επιλογή: User ID = {u}, Movie ID = {m}, Actual Rating = {actual_rating}\")\n",
    "\n",
    "\n",
    "    # Για κάθε τιμή του k\n",
    "    for k in k_values:\n",
    "        # Υπολογισμός της εκτιμώμενης βαθμολογίας για τον συγκεκριμένο χρήστη και ταινία\n",
    "        predicted_rating = ucf_algorithm(R, u, m, k)\n",
    "        predictions.append(predicted_rating)\n",
    "        actual_ratings.append(actual_rating)\n",
    "\n",
    "        # Υπολογισμός RMSE για τη συγκεκριμένη τιμή του k\n",
    "        rmse = compute_rmse(predictions, actual_ratings)\n",
    "        rmse_values.append(rmse)\n",
    "\n",
    "    return rmse_values, predictions\n",
    "\n",
    "\n",
    "\n",
    "train_model = pd.read_csv('data-train.csv' , names = [\"user_id\" , \"movie_id\" ,\"rating\"])\n",
    "\n",
    "test_model =pd.read_csv('data-test.csv' , names = [\"user_id\" , \"movie_id\" ,\"rating\"])\n",
    "\n",
    "train_model['rating'] = train_model['rating'].astype(float)\n",
    "\n",
    "num_users = train_model['user_id'].max()+1 # Take the num of users (how many rows)# \n",
    "num_movies= train_model['movie_id'].max()+1 # Take the num of users (how many rows)#\n",
    "k_values = [1, 2, 3, 5, 10, 20, 30, 40, 50, 60, 70, 80, 90, 100]\n",
    "\n",
    "rmse_values, predictions = run_ucf_for_k_values(R, test_model, k_values)\n",
    "\n",
    "min_rmse = min(rmse_values)\n",
    "optimal_k = k_values[rmse_values.index(min_rmse)]\n",
    "\n",
    "print(f\"Βέλτιστη τιμή του k: {optimal_k} με RMSE: {min_rmse}\")\n",
    "\n",
    "for k, pred in zip(k_values, predictions):\n",
    "    print(f\"k={k}: Predicted Rating={pred:.2f}\")\n",
    "\n",
    "plt.figure(figsize=(10, 6))\n",
    "plt.plot(k_values, rmse_values, marker='o', label='RMSE')\n",
    "plt.axvline(x=optimal_k, color='r', linestyle='--', label=f'Optimal k={optimal_k}')\n",
    "plt.xlabel('k (Αριθμός Όμοιων Χρηστών)')\n",
    "plt.ylabel('RMSE')\n",
    "plt.title('RMSE για Τυχαία Επιλογή Χρήστη και Ταινίας από το Test Data')\n",
    "plt.legend()\n",
    "plt.grid(True)\n",
    "plt.show()\n"
   ]
  },
  {
   "cell_type": "markdown",
   "metadata": {},
   "source": [
    "Βημα 4.3 : "
   ]
  },
  {
   "cell_type": "code",
   "execution_count": 46,
   "metadata": {},
   "outputs": [
    {
     "name": "stdout",
     "output_type": "stream",
     "text": [
      "Βέλτιστη τιμή του k: 3 με RMSE: 2.0060367740901706\n"
     ]
    },
    {
     "data": {
      "image/png": "[encoded data removed]",
      "text/plain": [
       "<Figure size 720x432 with 1 Axes>"
      ]
     },
     "metadata": {
      "needs_background": "light"
     },
     "output_type": "display_data"
    }
   ],
   "source": [
    "import numpy as np\n",
    "import pandas as pd\n",
    "import random\n",
    "from sklearn.metrics import mean_squared_error\n",
    "import matplotlib.pyplot as plt\n",
    "from scipy.sparse import csr_matrix\n",
    "\n",
    "\n",
    "\n",
    "def ucf_algorithm_optimized(R, u, m, k_values):\n",
    "    m_users = item_users(R, m)\n",
    "    if len(m_users) == 0:\n",
    "        return {k: user_mean(R, u) for k in k_values}\n",
    "\n",
    "    predictions = {}\n",
    "    for k in k_values:\n",
    "        top_k_users, top_k_similarities = similar_users_sparse(R, u, m_users, k)\n",
    "\n",
    "        if np.sum(top_k_similarities) == 0:\n",
    "            predictions[k] = 0\n",
    "        else:\n",
    "            top_k_ratings = R[top_k_users, m].toarray().flatten()\n",
    "            predictions[k] = compute_scope(top_k_ratings, top_k_similarities)\n",
    "\n",
    "    return predictions\n",
    "\n",
    "def compute_rmse(predictions, actuals):\n",
    "    return np.sqrt(mean_squared_error(actuals, predictions))\n",
    "\n",
    "# Παράδειγμα εκτέλεσης\n",
    "train_model = pd.read_csv('data-train.csv', names=[\"user_id\", \"movie_id\", \"rating\"])\n",
    "test_model = pd.read_csv('data-test.csv', names=[\"user_id\", \"movie_id\", \"rating\"])\n",
    "train_model['rating'] = train_model['rating'].astype(float)\n",
    "\n",
    "num_users = train_model['user_id'].max() + 1\n",
    "num_movies = train_model['movie_id'].max() + 1\n",
    "\n",
    "R = csr_matrix((train_model['rating'], (train_model['user_id'], train_model['movie_id'])), shape=(num_users, num_movies))\n",
    "k_values = [1, 2, 3, 5, 10, 20, 30, 40, 50, 60, 70, 80, 90, 100]\n",
    "\n",
    "u = random.choice(test_model['user_id'].unique())\n",
    "user_movies = test_model[test_model['user_id'] == u]\n",
    "random_movie = user_movies.sample(n=1)\n",
    "m = int(random_movie['movie_id'].iloc[0])\n",
    "actual_rating = random_movie['rating'].iloc[0]\n",
    "\n",
    "predictions = ucf_algorithm_optimized(R, u, m, k_values)\n",
    "\n",
    "rmse_values = [compute_rmse([predictions[k]], [actual_rating]) for k in k_values]\n",
    "min_rmse = min(rmse_values)\n",
    "optimal_k = k_values[rmse_values.index(min_rmse)]\n",
    "\n",
    "print(f\"Βέλτιστη τιμή του k: {optimal_k} με RMSE: {min_rmse}\")\n",
    "\n",
    "plt.figure(figsize=(10, 6))\n",
    "plt.plot(k_values, rmse_values, marker='o', label='RMSE')\n",
    "plt.axvline(x=optimal_k, color='r', linestyle='--', label=f'Optimal k={optimal_k}')\n",
    "plt.xlabel('k (Αριθμός Όμοιων Χρηστών)')\n",
    "plt.ylabel('RMSE')\n",
    "plt.title('RMSE για Τυχαία Επιλογή Χρήστη και Ταινίας από το Test Data')\n",
    "plt.legend()\n",
    "plt.grid(True)\n",
    "plt.show()\n"
   ]
  },
  {
   "cell_type": "markdown",
   "metadata": {},
   "source": [
    "Βημα 5 : Αξιολογηση των αλγοριθμων "
   ]
  },
  {
   "cell_type": "code",
   "execution_count": null,
   "metadata": {},
   "outputs": [],
   "source": []
  }
 ],
 "metadata": {
  "kernelspec": {
   "display_name": "Python 3.10.7 64-bit",
   "language": "python",
   "name": "python3"
  },
  "language_info": {
   "codemirror_mode": {
    "name": "ipython",
    "version": 3
   },
   "file_extension": ".py",
   "mimetype": "text/x-python",
   "name": "python",
   "nbconvert_exporter": "python",
   "pygments_lexer": "ipython3",
   "version": "3.10.7"
  },
  "orig_nbformat": 4,
  "vscode": {
   "interpreter": {
    "hash": "e7370f93d1d0cde622a1f8e1c04877d8463912d04d973331ad4851f04de6915a"
   }
  }
 },
 "nbformat": 4,
 "nbformat_minor": 2
}
